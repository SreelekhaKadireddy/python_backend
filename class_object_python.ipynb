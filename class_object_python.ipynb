{
 "cells": [
  {
   "cell_type": "code",
   "execution_count": 1,
   "id": "e59eeee3-0c07-482b-bedd-85d67538a3c5",
   "metadata": {},
   "outputs": [
    {
     "name": "stdout",
     "output_type": "stream",
     "text": [
      "5\n"
     ]
    }
   ],
   "source": [
    "#object-everything in python is object with functions and properties\n",
    "#class-object constructor / blueprint of creating objects\n",
    "class myClass():\n",
    "    x=5\n",
    "p=myClass()\n",
    "print(p.x)"
   ]
  },
  {
   "cell_type": "code",
   "execution_count": 25,
   "id": "27531568-e442-4de1-8eb8-a48995b1db43",
   "metadata": {},
   "outputs": [
    {
     "name": "stdout",
     "output_type": "stream",
     "text": [
      "siri\n",
      "21\n"
     ]
    }
   ],
   "source": [
    "#__init__() fun-always executed when class is initiated\n",
    "class person:\n",
    "    def __init__(self,name,age):\n",
    "        self.name=name\n",
    "        self.age=age\n",
    "obj=person(\"siri\",21)\n",
    "print(obj.name)\n",
    "print(obj.age)"
   ]
  },
  {
   "cell_type": "code",
   "execution_count": 26,
   "id": "e7a9c3da-40a8-4bce-9442-cf0e2445c55c",
   "metadata": {},
   "outputs": [
    {
     "name": "stdout",
     "output_type": "stream",
     "text": [
      "siri(21)\n"
     ]
    }
   ],
   "source": [
    "#__str__()\n",
    "class person:\n",
    "    def __init__(self,name,age):\n",
    "        self.name=name\n",
    "        self.age=age\n",
    "    def __str__(self):\n",
    "        return f\"{self.name}({self.age})\"\n",
    "obj=person(\"siri\",21)\n",
    "print(obj)\n"
   ]
  },
  {
   "cell_type": "code",
   "execution_count": 27,
   "id": "e37be811-474e-4a21-898a-434cc95f128a",
   "metadata": {},
   "outputs": [
    {
     "name": "stdout",
     "output_type": "stream",
     "text": [
      "my name is siri\n"
     ]
    }
   ],
   "source": [
    "#self-reference to the current instance of the class. used to access variables present in the class. first argument of the fun defined inside the class\n",
    "class temp:\n",
    "    def __init__(x,name,age):#self is replaced with x\n",
    "        x.name=name\n",
    "        x.age=age\n",
    "    def myFun(y):\n",
    "        print(\"my name is\",y.name) #self is replaced with y\n",
    "p=temp(\"siri\",21)\n",
    "p.myFun()"
   ]
  },
  {
   "cell_type": "code",
   "execution_count": 28,
   "id": "d1f9a266-20ef-4226-b125-bf118bb68e3d",
   "metadata": {},
   "outputs": [
    {
     "name": "stdout",
     "output_type": "stream",
     "text": [
      "my age is 22\n"
     ]
    }
   ],
   "source": [
    "#modify objects\n",
    "p.age=22\n",
    "print(\"my age is\",p.age)"
   ]
  },
  {
   "cell_type": "code",
   "execution_count": 29,
   "id": "20bd7955-6f90-47f8-ae4f-bf0418a77615",
   "metadata": {},
   "outputs": [
    {
     "name": "stdout",
     "output_type": "stream",
     "text": [
      "siri\n",
      "21\n"
     ]
    },
    {
     "ename": "AttributeError",
     "evalue": "'temp' object has no attribute 'age'",
     "output_type": "error",
     "traceback": [
      "\u001b[1;31m---------------------------------------------------------------------------\u001b[0m",
      "\u001b[1;31mAttributeError\u001b[0m                            Traceback (most recent call last)",
      "Cell \u001b[1;32mIn[29], line 10\u001b[0m\n\u001b[0;32m      8\u001b[0m \u001b[38;5;28mprint\u001b[39m(obj\u001b[38;5;241m.\u001b[39mage)\n\u001b[0;32m      9\u001b[0m \u001b[38;5;28;01mdel\u001b[39;00m p\u001b[38;5;241m.\u001b[39mage \u001b[38;5;66;03m# age property is deleted\u001b[39;00m\n\u001b[1;32m---> 10\u001b[0m \u001b[38;5;28mprint\u001b[39m(\u001b[43mp\u001b[49m\u001b[38;5;241;43m.\u001b[39;49m\u001b[43mage\u001b[49m)\n",
      "\u001b[1;31mAttributeError\u001b[0m: 'temp' object has no attribute 'age'"
     ]
    }
   ],
   "source": [
    "#del object properties\n",
    "class person:\n",
    "    def __init__(self,name,age):\n",
    "        self.name=name\n",
    "        self.age=age\n",
    "obj=person(\"siri\",21)\n",
    "print(obj.name)\n",
    "print(obj.age)\n",
    "del p.age # age property is deleted\n",
    "print(p.age)"
   ]
  },
  {
   "cell_type": "code",
   "execution_count": 30,
   "id": "c3c1266d-5802-4ac8-a257-f384f104439a",
   "metadata": {},
   "outputs": [],
   "source": [
    "del p"
   ]
  },
  {
   "cell_type": "code",
   "execution_count": 31,
   "id": "442c568d-9ed6-4c1b-a47f-f7d5748f0594",
   "metadata": {},
   "outputs": [
    {
     "ename": "NameError",
     "evalue": "name 'p' is not defined",
     "output_type": "error",
     "traceback": [
      "\u001b[1;31m---------------------------------------------------------------------------\u001b[0m",
      "\u001b[1;31mNameError\u001b[0m                                 Traceback (most recent call last)",
      "Cell \u001b[1;32mIn[31], line 1\u001b[0m\n\u001b[1;32m----> 1\u001b[0m \u001b[38;5;28mprint\u001b[39m(\u001b[43mp\u001b[49m\u001b[38;5;241m.\u001b[39mname)\n",
      "\u001b[1;31mNameError\u001b[0m: name 'p' is not defined"
     ]
    }
   ],
   "source": [
    "print(p.name)"
   ]
  },
  {
   "cell_type": "code",
   "execution_count": 32,
   "id": "28981aea-67f0-4470-9575-7e5fe5d32f00",
   "metadata": {},
   "outputs": [
    {
     "name": "stdout",
     "output_type": "stream",
     "text": [
      "siri 21\n"
     ]
    }
   ],
   "source": [
    "# Inheritance- child class(derived class) inherits the properties of parent class(base class)\n",
    "class person:\n",
    "    def __init__(self,name,age):\n",
    "        self.name=name\n",
    "        self.age=age\n",
    "    def myFun(self):\n",
    "            print(self.name,self.age)\n",
    "class student(person):\n",
    "    pass\n",
    "obj=person(\"siri\",21)\n",
    "obj.myFun()\n",
    "obj=student(\"mike\",23)\n"
   ]
  }
 ],
 "metadata": {
  "kernelspec": {
   "display_name": "Python 3 (ipykernel)",
   "language": "python",
   "name": "python3"
  },
  "language_info": {
   "codemirror_mode": {
    "name": "ipython",
    "version": 3
   },
   "file_extension": ".py",
   "mimetype": "text/x-python",
   "name": "python",
   "nbconvert_exporter": "python",
   "pygments_lexer": "ipython3",
   "version": "3.10.2"
  }
 },
 "nbformat": 4,
 "nbformat_minor": 5
}

{
 "cells": [
  {
   "cell_type": "code",
   "execution_count": 1,
   "id": "4fb1e4f1-b896-4e69-ad51-0746a815d37a",
   "metadata": {},
   "outputs": [
    {
     "name": "stdin",
     "output_type": "stream",
     "text": [
      " 20\n"
     ]
    },
    {
     "name": "stdout",
     "output_type": "stream",
     "text": [
      "the price is 20\n"
     ]
    }
   ],
   "source": [
    "#python string formatting\n",
    "n=int(input())\n",
    "print(\"the price is {}\".format(n))\n",
    "      "
   ]
  },
  {
   "cell_type": "code",
   "execution_count": 6,
   "id": "82ebb622-9496-4eef-8418-6e901849c036",
   "metadata": {},
   "outputs": [
    {
     "name": "stdin",
     "output_type": "stream",
     "text": [
      " 20\n",
      " 3\n"
     ]
    },
    {
     "name": "stdout",
     "output_type": "stream",
     "text": [
      "the price is 20.000\n",
      "the price is 20.0000\n"
     ]
    }
   ],
   "source": [
    "#display with decimals\n",
    "n=int(input())\n",
    "x=int(input())\n",
    "print(\"the price is {:.{}f}\".format(n,x))\n",
    "print(\"the price is {:.4f}\".format(n))"
   ]
  },
  {
   "cell_type": "code",
   "execution_count": 8,
   "id": "371c903c-0793-4fb1-bb43-6e9f0e64d363",
   "metadata": {},
   "outputs": [
    {
     "name": "stdout",
     "output_type": "stream",
     "text": [
      "my name is xyz of 30. My  gender is male\n"
     ]
    }
   ],
   "source": [
    "#multiple values\n",
    "name=\"xyz\"\n",
    "age=30\n",
    "gender=\"male\"\n",
    "print(\"my name is {} of {}. My  gender is {}\".format(name,age,gender))"
   ]
  },
  {
   "cell_type": "code",
   "execution_count": 15,
   "id": "91fe71b3-9db3-4ff5-a8a2-2641b3986c74",
   "metadata": {},
   "outputs": [
    {
     "name": "stdout",
     "output_type": "stream",
     "text": [
      "my name is xyz of 30. My  gender is male\n",
      "my name is siri of 21. My  gender is female\n"
     ]
    }
   ],
   "source": [
    "#using indexing\n",
    "name=\"xyz\"\n",
    "age=30\n",
    "gender=\"male\"\n",
    "op=\"my name is {0} of {1}. My  gender is {2}\"\n",
    "print(op.format(name,age,gender))\n",
    "op_2=\"my name is {name} of {age}. My  gender is {gender}\" #named index\n",
    "print(op_2.format(name=\"siri\",age=21,gender=\"female\"))"
   ]
  },
  {
   "cell_type": "code",
   "execution_count": null,
   "id": "5de88076-7111-4be8-82f7-7b6e3d311d59",
   "metadata": {},
   "outputs": [],
   "source": []
  }
 ],
 "metadata": {
  "kernelspec": {
   "display_name": "Python 3 (ipykernel)",
   "language": "python",
   "name": "python3"
  },
  "language_info": {
   "codemirror_mode": {
    "name": "ipython",
    "version": 3
   },
   "file_extension": ".py",
   "mimetype": "text/x-python",
   "name": "python",
   "nbconvert_exporter": "python",
   "pygments_lexer": "ipython3",
   "version": "3.10.2"
  }
 },
 "nbformat": 4,
 "nbformat_minor": 5
}

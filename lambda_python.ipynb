{
 "cells": [
  {
   "cell_type": "code",
   "execution_count": 1,
   "id": "484def7a-caad-41e9-89c1-4d71b66b1e31",
   "metadata": {},
   "outputs": [
    {
     "name": "stdout",
     "output_type": "stream",
     "text": [
      "40\n"
     ]
    }
   ],
   "source": [
    "#lambda fun in python-small anonymous function\n",
    "#take many arguments but have only one expression\n",
    "temp=lambda a:a*8\n",
    "print(temp(5))"
   ]
  },
  {
   "cell_type": "code",
   "execution_count": 3,
   "id": "89bff95f-06b3-4291-9b06-a589e9762f8f",
   "metadata": {},
   "outputs": [
    {
     "name": "stdout",
     "output_type": "stream",
     "text": [
      "23\n"
     ]
    }
   ],
   "source": [
    "x=lambda a,b:a*10+b\n",
    "print(x(2,3))"
   ]
  },
  {
   "cell_type": "code",
   "execution_count": 5,
   "id": "e3e7be76-7a57-41ed-b847-961bf0551098",
   "metadata": {},
   "outputs": [
    {
     "name": "stdout",
     "output_type": "stream",
     "text": [
      "20\n"
     ]
    }
   ],
   "source": [
    "#use-anonymous fun inside other fun\n",
    "def my_fun(n):\n",
    "    return lambda a:a*n\n",
    "x=my_fun(2)\n",
    "print(x(10))"
   ]
  },
  {
   "cell_type": "code",
   "execution_count": null,
   "id": "87c40249-dc6d-4d18-b8e7-db214e874b5a",
   "metadata": {},
   "outputs": [],
   "source": []
  }
 ],
 "metadata": {
  "kernelspec": {
   "display_name": "Python 3 (ipykernel)",
   "language": "python",
   "name": "python3"
  },
  "language_info": {
   "codemirror_mode": {
    "name": "ipython",
    "version": 3
   },
   "file_extension": ".py",
   "mimetype": "text/x-python",
   "name": "python",
   "nbconvert_exporter": "python",
   "pygments_lexer": "ipython3",
   "version": "3.10.2"
  }
 },
 "nbformat": 4,
 "nbformat_minor": 5
}

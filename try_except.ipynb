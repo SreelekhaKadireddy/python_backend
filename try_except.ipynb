{
 "cells": [
  {
   "cell_type": "code",
   "execution_count": 2,
   "id": "7b5ac9a3-89b5-4f7c-a03b-3ab9c6f8c0ae",
   "metadata": {},
   "outputs": [
    {
     "name": "stdout",
     "output_type": "stream",
     "text": [
      "something went wrongwhen opening the file\n"
     ]
    }
   ],
   "source": [
    "#try-except in python\n",
    "#try-tests a block of code for errors\n",
    "#except- handles the errors\n",
    "#else-executes the code when there is no error\n",
    "#finally-executes the code regardless of outputs of try-except blocks\n",
    "try:\n",
    "    f=open(demofile.txt)\n",
    "    try:\n",
    "        f.write(\"Lorum Ipsum\")\n",
    "    except:\n",
    "        print(\"something went wrong when writting the file\")\n",
    "    finally:\n",
    "        f.close()\n",
    "except:\n",
    "    print(\"something went wrongwhen opening the file\")"
   ]
  },
  {
   "cell_type": "code",
   "execution_count": 5,
   "id": "e2e75454-6b9e-41f1-8b04-eee2064f17a4",
   "metadata": {},
   "outputs": [
    {
     "ename": "Exception",
     "evalue": "no numbers below 20",
     "output_type": "error",
     "traceback": [
      "\u001b[1;31m---------------------------------------------------------------------------\u001b[0m",
      "\u001b[1;31mException\u001b[0m                                 Traceback (most recent call last)",
      "Cell \u001b[1;32mIn[5], line 4\u001b[0m\n\u001b[0;32m      2\u001b[0m x\u001b[38;5;241m=\u001b[39m\u001b[38;5;241m10\u001b[39m\n\u001b[0;32m      3\u001b[0m \u001b[38;5;28;01mif\u001b[39;00m x\u001b[38;5;241m<\u001b[39m\u001b[38;5;241m20\u001b[39m:\n\u001b[1;32m----> 4\u001b[0m     \u001b[38;5;28;01mraise\u001b[39;00m \u001b[38;5;167;01mException\u001b[39;00m(\u001b[38;5;124m\"\u001b[39m\u001b[38;5;124mno numbers below 20\u001b[39m\u001b[38;5;124m\"\u001b[39m)\n",
      "\u001b[1;31mException\u001b[0m: no numbers below 20"
     ]
    }
   ],
   "source": [
    "#raise an exception-raise key word\n",
    "x=10\n",
    "if x<20:\n",
    "    raise Exception(\"no numbers below 20\")"
   ]
  },
  {
   "cell_type": "code",
   "execution_count": null,
   "id": "1f443964-2020-452e-ae42-461ab354be72",
   "metadata": {},
   "outputs": [],
   "source": [
    "x=-1\n",
    "if x<0:\n",
    "    raise TypeError(\"no negative numbers"
   ]
  }
 ],
 "metadata": {
  "kernelspec": {
   "display_name": "Python 3 (ipykernel)",
   "language": "python",
   "name": "python3"
  },
  "language_info": {
   "codemirror_mode": {
    "name": "ipython",
    "version": 3
   },
   "file_extension": ".py",
   "mimetype": "text/x-python",
   "name": "python",
   "nbconvert_exporter": "python",
   "pygments_lexer": "ipython3",
   "version": "3.10.2"
  }
 },
 "nbformat": 4,
 "nbformat_minor": 5
}

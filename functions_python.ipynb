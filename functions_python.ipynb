{
 "cells": [
  {
   "cell_type": "code",
   "execution_count": 1,
   "id": "26b7c200-0f55-4306-90e5-8fb458546ce4",
   "metadata": {},
   "outputs": [],
   "source": [
    "def var_name():\n",
    "    pass\n",
    "var_name()"
   ]
  },
  {
   "cell_type": "code",
   "execution_count": 3,
   "id": "76173ad6-5fbd-43ad-9cd7-7429277acd49",
   "metadata": {},
   "outputs": [
    {
     "name": "stdout",
     "output_type": "stream",
     "text": [
      "30\n"
     ]
    }
   ],
   "source": [
    "#positional arguments\n",
    "def add(a,b): #a,b are positional arguments\n",
    "    return (a+b)\n",
    "print(add(10,20)) #10,20 are actual arguments"
   ]
  },
  {
   "cell_type": "code",
   "execution_count": 4,
   "id": "d9372da0-1145-4e7b-815f-99b2eb2bb06f",
   "metadata": {},
   "outputs": [
    {
     "name": "stdout",
     "output_type": "stream",
     "text": [
      "-10\n",
      "10\n"
     ]
    }
   ],
   "source": [
    "def add(a,b): #a,b are positional arguments\n",
    "    return (a-b)\n",
    "print(add(10,20)) #10,20 are actual arguments\n",
    "print(add(20,10))"
   ]
  },
  {
   "cell_type": "code",
   "execution_count": 5,
   "id": "bad1b652-99da-441d-a360-6675de4c1ce4",
   "metadata": {},
   "outputs": [
    {
     "name": "stdout",
     "output_type": "stream",
     "text": [
      "('eid :', 101, 'ename :', 'abc')\n",
      "('eid :', 101, 'ename :', 'abc')\n"
     ]
    }
   ],
   "source": [
    "#key word arguments\n",
    "def emp(id,name):\n",
    "    return(\"eid :\",id,\"ename :\",name)\n",
    "print(emp(id=101,name=\"abc\"))\n",
    "print(emp(name=\"abc\",id=101))"
   ]
  },
  {
   "cell_type": "code",
   "execution_count": 6,
   "id": "320ee5dc-03f9-4c76-ab31-1d614156757d",
   "metadata": {},
   "outputs": [
    {
     "name": "stdout",
     "output_type": "stream",
     "text": [
      "(10, (20,))\n",
      "(10, (20, 30))\n",
      "(10, (20, 30, 40))\n"
     ]
    }
   ],
   "source": [
    "#variable length arguments\n",
    "def fun(a,*b):\n",
    "    return a,b\n",
    "\n",
    "x=fun(10,20)\n",
    "print(x)\n",
    "y=fun(10,20,30)\n",
    "print(y)\n",
    "z=fun(10,20,30,40)\n",
    "print(z)\n",
    "\n"
   ]
  },
  {
   "cell_type": "code",
   "execution_count": null,
   "id": "76e2b83e-6af5-429a-b463-a50397ef0797",
   "metadata": {},
   "outputs": [],
   "source": []
  }
 ],
 "metadata": {
  "kernelspec": {
   "display_name": "Python 3 (ipykernel)",
   "language": "python",
   "name": "python3"
  },
  "language_info": {
   "codemirror_mode": {
    "name": "ipython",
    "version": 3
   },
   "file_extension": ".py",
   "mimetype": "text/x-python",
   "name": "python",
   "nbconvert_exporter": "python",
   "pygments_lexer": "ipython3",
   "version": "3.10.2"
  }
 },
 "nbformat": 4,
 "nbformat_minor": 5
}
